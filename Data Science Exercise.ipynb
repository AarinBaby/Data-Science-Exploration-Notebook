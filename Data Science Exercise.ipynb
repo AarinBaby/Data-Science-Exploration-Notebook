{
 "cells": [
  {
   "cell_type": "markdown",
   "source": [
    "This notebook provides a basic introduction to data science concepts and tools. \n",
    "We'll explore some common data science languages, libraries, and perform \n",
    "simple calculations.\n"
   ],
   "metadata": {
    "collapsed": false
   },
   "id": "b35b1a7c7e644ed8"
  },
  {
   "cell_type": "markdown",
   "source": [
    "## Data Science Languages\n",
    "- Python\n",
    "- R\n",
    "- SQL\n"
   ],
   "metadata": {
    "collapsed": false
   },
   "id": "32d0aa537086865e"
  },
  {
   "cell_type": "markdown",
   "source": [
    "## Data Science Libraries\n",
    "- Pandas\n",
    "- NumPy\n",
    "- Matplotlib\n"
   ],
   "metadata": {
    "collapsed": false
   },
   "id": "7434f85e9ab627f8"
  },
  {
   "cell_type": "markdown",
   "source": [
    "## Data Science Tools\n",
    "\n",
    "| Tool         | Description                          |\n",
    "|--------------|--------------------------------------|\n",
    "| Jupyter      | Interactive computing environment    |\n",
    "| Scikit-learn | Machine learning library             |\n",
    "| TensorFlow   | Deep learning framework              |\n"
   ],
   "metadata": {
    "collapsed": false
   },
   "id": "80943630615af332"
  },
  {
   "cell_type": "markdown",
   "source": [
    "## Arithmetic Expression Examples\n",
    "Let's explore some basic arithmetic operations using Python in the code cells below.\n"
   ],
   "metadata": {
    "collapsed": false
   },
   "id": "f3a205573583fe8"
  },
  {
   "cell_type": "markdown",
   "source": [],
   "metadata": {
    "collapsed": false
   },
   "id": "d40c37b1d0130e63"
  },
  {
   "cell_type": "code",
   "execution_count": null,
   "id": "initial_id",
   "metadata": {
    "collapsed": true
   },
   "outputs": [],
   "source": [
    "# Multiply and add numbers\n",
    "a = 5\n",
    "b = 10\n",
    "product = a * b\n",
    "sum = a + b\n",
    "product, sum\n"
   ]
  },
  {
   "cell_type": "code",
   "outputs": [],
   "source": [
    "# Convert minutes to hours\n",
    "minutes = 120\n",
    "hours = minutes / 60\n",
    "hours\n"
   ],
   "metadata": {
    "collapsed": false
   },
   "id": "6fe4dcf8c3c3f316"
  },
  {
   "cell_type": "markdown",
   "source": [
    "## Objectives\n",
    "- Explore data science languages, libraries, and tools\n",
    "- Understand basic arithmetic operations in Python\n"
   ],
   "metadata": {
    "collapsed": false
   },
   "id": "cb194591859b46c6"
  },
  {
   "cell_type": "markdown",
   "source": [
    "## Author\n",
    "Aarin Sidana"
   ],
   "metadata": {
    "collapsed": false
   },
   "id": "1c92a59db7b67e01"
  }
 ],
 "metadata": {
  "kernelspec": {
   "display_name": "Python 3",
   "language": "python",
   "name": "python3"
  },
  "language_info": {
   "codemirror_mode": {
    "name": "ipython",
    "version": 2
   },
   "file_extension": ".py",
   "mimetype": "text/x-python",
   "name": "python",
   "nbconvert_exporter": "python",
   "pygments_lexer": "ipython2",
   "version": "2.7.6"
  }
 },
 "nbformat": 4,
 "nbformat_minor": 5
}
